{
 "cells": [
  {
   "cell_type": "code",
   "execution_count": null,
   "id": "8cc9a745",
   "metadata": {},
   "outputs": [],
   "source": [
    "import matplotlib.pyplot as plt\n",
    "\n",
    "import os, sys\n",
    "try:\n",
    "    _here = os.path.dirname(os.path.realpath(__file__))\n",
    "except NameError:\n",
    "    # WARNING: jupyter notebook hack\n",
    "    _here = globals()['_dh'][0]\n",
    "_top = os.path.realpath(os.path.join(_here, '..'))\n",
    "if _top not in sys.path:\n",
    "    sys.path.append(_top)\n",
    "    \n",
    "import titanfp.quantifind.viz as viz\n",
    "\n",
    "\n",
    "here = _top\n",
    "\n",
    "experiment = os.path.join(here, 'out/codesign/float')\n",
    "baseline = os.path.join(here, 'out/codesign_baseline/float')\n",
    "e_source = viz.SearchData(experiment)\n",
    "b_source = viz.SearchData(baseline)"
   ]
  },
  {
   "cell_type": "code",
   "execution_count": null,
   "id": "19a3c3a0",
   "metadata": {
    "scrolled": false
   },
   "outputs": [],
   "source": [
    "%matplotlib notebook\n",
    "import operator\n",
    "\n",
    "live = os.path.join(here, 'out/live/float')\n",
    "live_source = viz.SearchData(live)\n",
    "\n",
    "rk_metrics = (operator.lt,) * 2 + (operator.gt,) * 4\n",
    "\n",
    "xidx = 1\n",
    "yidx = 2\n",
    "metric_fns = [f if i == xidx or i == yidx else None for i, f in enumerate(rk_metrics)]\n",
    "\n",
    "fig = viz.LivePlot(live_source, metric_fns, xidx, yidx, refresh=1000)\n",
    "#_ = fig.ax.set_xlim(0,1000000)"
   ]
  },
  {
   "cell_type": "code",
   "execution_count": null,
   "id": "2964bd56",
   "metadata": {
    "scrolled": false
   },
   "outputs": [],
   "source": [
    "%matplotlib notebook\n",
    "import operator\n",
    "\n",
    "# experiment = os.path.join(here, 'out/codesign/float')\n",
    "# baseline = os.path.join(here, 'out/codesign_baseline/float')\n",
    "# e_source = viz.SearchData(experiment)\n",
    "# b_source = viz.SearchData(baseline)\n",
    "\n",
    "rk_metrics = (operator.lt,) * 2 + (operator.gt,) * 4\n",
    "\n",
    "xidx = 1\n",
    "yidx = 2\n",
    "metric_fns = [f if i == xidx or i == yidx else None for i, f in enumerate(rk_metrics)]\n",
    "\n",
    "fig = viz.LivePlot(e_source, metric_fns, xidx, yidx, refresh=1000)\n",
    "fig.ax.set_xlim(0,1000000)\n",
    "\n",
    "#comp = viz.ComparePlot([e_source, b_source], metric_fns, xidx, yidx)"
   ]
  },
  {
   "cell_type": "code",
   "execution_count": null,
   "id": "2bb5296a",
   "metadata": {
    "scrolled": false
   },
   "outputs": [],
   "source": [
    "%matplotlib notebook\n",
    "import operator\n",
    "\n",
    "# experiment = os.path.join(here, 'out/codesign/float')\n",
    "# baseline = os.path.join(here, 'out/codesign_baseline/float')\n",
    "# e_source = viz.SearchData(experiment)\n",
    "# b_source = viz.SearchData(baseline)\n",
    "\n",
    "rk_metrics = (operator.lt,) * 2 + (operator.gt,) * 4\n",
    "\n",
    "xidx = 0\n",
    "yidx = 2\n",
    "metric_fns = [f if i == xidx or i == yidx else None for i, f in enumerate(rk_metrics)]\n",
    "\n",
    "#fig = viz.LivePlot(source, metric_fns, xidx, yidx, refresh=1000)\n",
    "#fig.ax.set_xlim(0,1000000)\n",
    "\n",
    "comp = viz.ComparePlot([e_source, b_source], metric_fns, xidx, yidx)\n",
    "#comp.ax.set_xlim(0,1000000)"
   ]
  },
  {
   "cell_type": "code",
   "execution_count": null,
   "id": "44bdedd8",
   "metadata": {
    "scrolled": false
   },
   "outputs": [],
   "source": [
    "%matplotlib notebook\n",
    "import operator\n",
    "\n",
    "# experiment = os.path.join(here, 'out/codesign/float')\n",
    "# baseline = os.path.join(here, 'out/codesign_baseline/float')\n",
    "# #e_source = viz.SearchData(experiment)\n",
    "# b_source = viz.SearchData(baseline)\n",
    "\n",
    "rk_metrics = (operator.lt,) * 2 + (operator.gt,) * 4\n",
    "\n",
    "xidx = 1\n",
    "yidx = 2\n",
    "metric_fns = [f if i == xidx or i == yidx else None for i, f in enumerate(rk_metrics)]\n",
    "\n",
    "#fig = viz.LivePlot(source, metric_fns, xidx, yidx, refresh=1000)\n",
    "#fig.ax.set_xlim(0,1000000)\n",
    "\n",
    "#comp = viz.ComparePlot([e_source, b_source], metric_fns, xidx, yidx)\n",
    "\n",
    "xfer = viz.XferPlot(e_source, rk_metrics, 0, 2, 1)"
   ]
  }
 ],
 "metadata": {
  "kernelspec": {
   "display_name": "Python 3",
   "language": "python",
   "name": "python3"
  },
  "language_info": {
   "codemirror_mode": {
    "name": "ipython",
    "version": 3
   },
   "file_extension": ".py",
   "mimetype": "text/x-python",
   "name": "python",
   "nbconvert_exporter": "python",
   "pygments_lexer": "ipython3",
   "version": "3.8.10"
  }
 },
 "nbformat": 4,
 "nbformat_minor": 5
}
